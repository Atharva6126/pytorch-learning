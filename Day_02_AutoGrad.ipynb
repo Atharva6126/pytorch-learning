{
  "nbformat": 4,
  "nbformat_minor": 0,
  "metadata": {
    "colab": {
      "provenance": [],
      "authorship_tag": "ABX9TyPy9rEJRaPoljTdoU64Fp4G",
      "include_colab_link": true
    },
    "kernelspec": {
      "name": "python3",
      "display_name": "Python 3"
    },
    "language_info": {
      "name": "python"
    }
  },
  "cells": [
    {
      "cell_type": "markdown",
      "metadata": {
        "id": "view-in-github",
        "colab_type": "text"
      },
      "source": [
        "<a href=\"https://colab.research.google.com/github/Atharva6126/pytorch-learning/blob/main/Day_02_AutoGrad.ipynb\" target=\"_parent\"><img src=\"https://colab.research.google.com/assets/colab-badge.svg\" alt=\"Open In Colab\"/></a>"
      ]
    },
    {
      "cell_type": "code",
      "source": [
        "import torch\n",
        "\n",
        "# Create tensor with requires_grad=True\n",
        "x = torch.tensor(3.0, requires_grad=True)\n",
        "\n",
        "# Define a function\n",
        "y = x ** 2 + 5 * x + 3  # Quadratic function\n",
        "\n",
        "# Compute gradients\n",
        "y.backward()  # dy/dx is computed automatically\n",
        "\n",
        "# Print gradient (dy/dx = 2x + 5)\n",
        "print(f\"Gradient at x=3: {x.grad}\")  # Output should be 11\n",
        "\n"
      ],
      "metadata": {
        "colab": {
          "base_uri": "https://localhost:8080/"
        },
        "id": "tWFwPOhlc3UA",
        "outputId": "9dea66f0-b2eb-4b8b-98c7-0445a34c94d3"
      },
      "execution_count": null,
      "outputs": [
        {
          "output_type": "stream",
          "name": "stdout",
          "text": [
            "Gradient at x=3: 11.0\n"
          ]
        }
      ]
    },
    {
      "cell_type": "code",
      "source": [
        "x = torch.tensor(3.0, requires_grad=True)\n",
        "y = x ** 2  # y = x^2\n",
        "z = 2 * y + 3  # z = 2x^2 + 3\n",
        "\n",
        "z.backward()  # Backpropagate\n",
        "\n",
        "print(f\"Gradient dz/dx: {x.grad}\")  # dz/dx = 4x = 12"
      ],
      "metadata": {
        "colab": {
          "base_uri": "https://localhost:8080/"
        },
        "id": "y0Nc5I5gfOEe",
        "outputId": "fe289302-3187-496f-e97e-39cdae82531e"
      },
      "execution_count": null,
      "outputs": [
        {
          "output_type": "stream",
          "name": "stdout",
          "text": [
            "Gradient dz/dx: 12.0\n"
          ]
        }
      ]
    },
    {
      "cell_type": "markdown",
      "source": [
        "This cell is about stopping gradient tracking , useful for deep learning inferences (predictions), where gradients are not needed."
      ],
      "metadata": {
        "id": "jMIHD4PZfznY"
      }
    },
    {
      "cell_type": "code",
      "source": [
        "import torch\n",
        "\n",
        "# Create a tensor with gradient tracking\n",
        "x = torch.tensor(5.0, requires_grad=True)\n",
        "\n",
        "# Disable autograd using torch.no_grad()\n",
        "with torch.no_grad():\n",
        "    y = x * 2  # Perform operations without tracking gradients\n",
        "\n",
        "print(f\"Requires Grad: {y.requires_grad}\")  # Should print False\n"
      ],
      "metadata": {
        "id": "pWXQb7VNfRau"
      },
      "execution_count": null,
      "outputs": []
    }
  ]
}