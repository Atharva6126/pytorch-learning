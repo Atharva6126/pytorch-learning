{
  "nbformat": 4,
  "nbformat_minor": 0,
  "metadata": {
    "colab": {
      "provenance": [],
      "authorship_tag": "ABX9TyMoygquqq5I5mGvxYMXiSxq",
      "include_colab_link": true
    },
    "kernelspec": {
      "name": "python3",
      "display_name": "Python 3"
    },
    "language_info": {
      "name": "python"
    }
  },
  "cells": [
    {
      "cell_type": "markdown",
      "metadata": {
        "id": "view-in-github",
        "colab_type": "text"
      },
      "source": [
        "<a href=\"https://colab.research.google.com/github/Atharva6126/pytorch-learning/blob/main/jacobian_vector_product_py.ipynb\" target=\"_parent\"><img src=\"https://colab.research.google.com/assets/colab-badge.svg\" alt=\"Open In Colab\"/></a>"
      ]
    },
    {
      "cell_type": "code",
      "source": [
        "#An exercise to implement: The Jacobian Vector Product.\n",
        "\n",
        "x = torch.randn(2, requires_grad=True)\n",
        "\n",
        "y = x**3\n",
        "\n",
        "v = torch.tensor([2.0, 3.0])\n",
        "\n",
        "y.backward(v)\n",
        "\n",
        "print(\"compute dy/dx:\", x.grad)\n"
      ],
      "metadata": {
        "colab": {
          "base_uri": "https://localhost:8080/"
        },
        "id": "tWFwPOhlc3UA",
        "outputId": "bd32b393-b906-4f53-8b03-f48372255c07"
      },
      "execution_count": null,
      "outputs": [
        {
          "output_type": "stream",
          "name": "stdout",
          "text": [
            "compute dy/dx: tensor([ 2.6695, 10.3341])\n"
          ]
        }
      ]
    }
  ]
}