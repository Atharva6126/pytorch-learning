{
  "nbformat": 4,
  "nbformat_minor": 0,
  "metadata": {
    "colab": {
      "provenance": [],
      "authorship_tag": "ABX9TyMT33DFxEOPoQAH/BQQn16N",
      "include_colab_link": true
    },
    "kernelspec": {
      "name": "python3",
      "display_name": "Python 3"
    },
    "language_info": {
      "name": "python"
    }
  },
  "cells": [
    {
      "cell_type": "markdown",
      "metadata": {
        "id": "view-in-github",
        "colab_type": "text"
      },
      "source": [
        "<a href=\"https://colab.research.google.com/github/Atharva6126/pytorch-learning/blob/main/LLMs.ipynb\" target=\"_parent\"><img src=\"https://colab.research.google.com/assets/colab-badge.svg\" alt=\"Open In Colab\"/></a>"
      ]
    },
    {
      "cell_type": "code",
      "source": [
        "# Day 01 Of Learning ML/DL\n",
        "# Tensors and Operations"
      ],
      "metadata": {
        "id": "Fr8IOx9cgChw"
      },
      "execution_count": null,
      "outputs": []
    },
    {
      "cell_type": "code",
      "source": [
        "import torch\n",
        "\n",
        "matrix = torch.tensor([[1, 0, 0], [0, 1, 0], [1, 0, 1]])\n",
        "print(\"\\nMatrix:\", matrix)"
      ],
      "metadata": {
        "colab": {
          "base_uri": "https://localhost:8080/"
        },
        "id": "BYEblMPRcI7g",
        "outputId": "4032c07d-5a63-499f-89ed-c2f9f718f584"
      },
      "execution_count": null,
      "outputs": [
        {
          "output_type": "stream",
          "name": "stdout",
          "text": [
            "\n",
            "Matrix: tensor([[1, 0, 0],\n",
            "        [0, 1, 0],\n",
            "        [1, 0, 1]])\n"
          ]
        }
      ]
    },
    {
      "cell_type": "code",
      "source": [
        "tensor = torch.rand(2, 2, 2)\n",
        "print(\"\\nTensor (3D):\", tensor)"
      ],
      "metadata": {
        "colab": {
          "base_uri": "https://localhost:8080/"
        },
        "id": "BiR8CBOUcg4M",
        "outputId": "92682d4a-b0b4-4b01-94f0-c72b6e136bb8"
      },
      "execution_count": null,
      "outputs": [
        {
          "output_type": "stream",
          "name": "stdout",
          "text": [
            "\n",
            "Tensor (3D): tensor([[[0.7342, 0.2300],\n",
            "         [0.0223, 0.8389]],\n",
            "\n",
            "        [[0.7989, 0.6962],\n",
            "         [0.0455, 0.0570]]])\n"
          ]
        }
      ]
    },
    {
      "cell_type": "code",
      "source": [
        "a = torch.tensor([4, 5, 6])\n",
        "b = torch.tensor([7,8,9])\n",
        "\n",
        "sum_tensor = a + b\n",
        "\n",
        "print(\"sum of the tensor is :\",sum_tensor)\n",
        "\n",
        "prod_tensor = a * b\n",
        "print(\"product of tensor is:\", prod_tensor)"
      ],
      "metadata": {
        "colab": {
          "base_uri": "https://localhost:8080/"
        },
        "id": "5ZEdFDd1ebp-",
        "outputId": "ff462a38-d9ff-4873-ad62-467ad4abc98e"
      },
      "execution_count": null,
      "outputs": [
        {
          "output_type": "stream",
          "name": "stdout",
          "text": [
            "sum of the tensor is : tensor([11, 13, 15])\n",
            "product of tensor is: tensor([28, 40, 54])\n"
          ]
        }
      ]
    },
    {
      "cell_type": "code",
      "source": [
        "#Hands on Practice:"
      ],
      "metadata": {
        "id": "imhKya5rglAa"
      },
      "execution_count": null,
      "outputs": []
    },
    {
      "cell_type": "code",
      "source": [
        "# Perform element-wise subtraction between two tensors.\n",
        "\n",
        "a = torch.tensor([7,8,9])\n",
        "b = torch.tensor([6,8,2])\n",
        "\n",
        "sub_tensor = a - b\n",
        "print(\"element wise subtraction is :\", sub_tensor)\n",
        "\n",
        "#Reshape a tensor of 8 elements into a 2x4 matrix.\n",
        "\n",
        "tensor_flat = torch.tensor([0,1,2,3,4,5,6,7])\n",
        "\n",
        "new_tensor = tensor_flat.view(2, 4)\n",
        "\n",
        "print(\" Reshaped tensor is:\", new_tensor)\n",
        "\n",
        "#"
      ],
      "metadata": {
        "colab": {
          "base_uri": "https://localhost:8080/"
        },
        "id": "JCtX-1WIgv5U",
        "outputId": "67d3b3cd-19da-4fb9-bc38-731d59d87c2e"
      },
      "execution_count": null,
      "outputs": [
        {
          "output_type": "stream",
          "name": "stdout",
          "text": [
            "element wise subtraction is : tensor([1, 0, 7])\n",
            " Reshaped tensor is: tensor([[0, 1, 2, 3],\n",
            "        [4, 5, 6, 7]])\n"
          ]
        }
      ]
    },
    {
      "cell_type": "code",
      "source": [],
      "metadata": {
        "id": "6xCmh1iihr4-"
      },
      "execution_count": null,
      "outputs": []
    }
  ]
}